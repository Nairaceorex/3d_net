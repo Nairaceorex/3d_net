{
 "cells": [
  {
   "cell_type": "code",
   "execution_count": 1,
   "metadata": {},
   "outputs": [],
   "source": [
    "import torch"
   ]
  },
  {
   "cell_type": "code",
   "execution_count": 2,
   "metadata": {},
   "outputs": [],
   "source": [
    "class Net(torch.nn.Module):\n",
    "    def __init__(self):\n",
    "        super(Net, self).__init__()\n",
    "        self.fc1 = torch.nn.Linear(3, 64)\n",
    "        self.fc2 = torch.nn.Linear(64, 128)\n",
    "\n",
    "    def forward(self, x):\n",
    "        x = self.fc1(x)\n",
    "        return x"
   ]
  },
  {
   "cell_type": "code",
   "execution_count": 3,
   "metadata": {},
   "outputs": [],
   "source": [
    "x = torch.randn([1, 100, 3])\n",
    "target = torch.randn([1, 100, 64])\n",
    "\n",
    "model = Net()\n",
    "criterian = torch.nn.MSELoss()\n",
    "optimazer = torch.optim.SGD(model.parameters(), lr=0.001)"
   ]
  },
  {
   "cell_type": "code",
   "execution_count": 6,
   "metadata": {},
   "outputs": [
    {
     "name": "stdout",
     "output_type": "stream",
     "text": [
      "Epoch: 0 Loss: tensor(1.4563, grad_fn=<MseLossBackward>)\n",
      "Epoch: 1 Loss: tensor(1.4562, grad_fn=<MseLossBackward>)\n",
      "Epoch: 2 Loss: tensor(1.4562, grad_fn=<MseLossBackward>)\n",
      "Epoch: 3 Loss: tensor(1.4562, grad_fn=<MseLossBackward>)\n",
      "Epoch: 4 Loss: tensor(1.4561, grad_fn=<MseLossBackward>)\n",
      "Epoch: 5 Loss: tensor(1.4561, grad_fn=<MseLossBackward>)\n",
      "Epoch: 6 Loss: tensor(1.4561, grad_fn=<MseLossBackward>)\n",
      "Epoch: 7 Loss: tensor(1.4561, grad_fn=<MseLossBackward>)\n",
      "Epoch: 8 Loss: tensor(1.4560, grad_fn=<MseLossBackward>)\n",
      "Epoch: 9 Loss: tensor(1.4560, grad_fn=<MseLossBackward>)\n"
     ]
    }
   ],
   "source": [
    "for epoch in range(10):\n",
    "    output = model(x)\n",
    "    loss = criterian(output, target)\n",
    "    print(\"Epoch:\", epoch, \"Loss:\", loss)\n",
    "    optimazer.zero_grad()\n",
    "    loss.backward()\n",
    "    optimazer.step()"
   ]
  },
  {
   "cell_type": "code",
   "execution_count": null,
   "metadata": {},
   "outputs": [],
   "source": []
  }
 ],
 "metadata": {
  "kernelspec": {
   "display_name": "Python 3",
   "language": "python",
   "name": "python3"
  },
  "language_info": {
   "codemirror_mode": {
    "name": "ipython",
    "version": 3
   },
   "file_extension": ".py",
   "mimetype": "text/x-python",
   "name": "python",
   "nbconvert_exporter": "python",
   "pygments_lexer": "ipython3",
   "version": "3.8.3"
  }
 },
 "nbformat": 4,
 "nbformat_minor": 4
}
